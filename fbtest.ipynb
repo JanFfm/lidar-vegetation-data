{
 "cells": [
  {
   "cell_type": "code",
   "execution_count": 2,
   "id": "1a97b5ec",
   "metadata": {},
   "outputs": [],
   "source": [
    "import db_settings\n",
    "db =db_settings.db()"
   ]
  },
  {
   "cell_type": "code",
   "execution_count": null,
   "id": "64b09ecb",
   "metadata": {},
   "outputs": [],
   "source": []
  }
 ],
 "metadata": {
  "kernelspec": {
   "display_name": "Python 3 (ipykernel)",
   "language": "python",
   "name": "python3"
  },
  "language_info": {
   "codemirror_mode": {
    "name": "ipython",
    "version": 3
   },
   "file_extension": ".py",
   "mimetype": "text/x-python",
   "name": "python",
   "nbconvert_exporter": "python",
   "pygments_lexer": "ipython3",
   "version": "3.9.12"
  }
 },
 "nbformat": 4,
 "nbformat_minor": 5
}
