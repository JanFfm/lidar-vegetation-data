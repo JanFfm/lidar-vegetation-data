{
 "cells": [
  {
   "cell_type": "code",
   "execution_count": 46,
   "id": "c636d038",
   "metadata": {},
   "outputs": [],
   "source": [
    "from sklearn import tree\n",
    "from sklearn.tree import DecisionTreeClassifier\n",
    "from sklearn.ensemble import RandomForestClassifier\n",
    "from sklearn.neighbors import KNeighborsClassifier\n",
    "\n",
    "from sklearn.model_selection import train_test_split\n",
    "\n",
    "from sklearn.svm import LinearSVC\n",
    "import db_settings\n",
    "import pyexasol\n",
    "from pathlib import Path\n",
    "import warnings\n",
    "import csv\n",
    "import pandas as pd"
   ]
  },
  {
   "cell_type": "code",
   "execution_count": 3,
   "id": "ef109e51",
   "metadata": {},
   "outputs": [],
   "source": [
    "db =db_settings.db(autocommit=False)\n"
   ]
  },
  {
   "cell_type": "code",
   "execution_count": 32,
   "id": "d51d1ced",
   "metadata": {},
   "outputs": [],
   "source": [
    "req_families = \"\"\"SELECT * FROM lidar_proj.familien\"\"\"\n",
    "req_order = \"\"\"SELECT * FROM lidar_proj.ordnungen\"\"\"\n",
    "req_class = \"\"\"SELECT * FROM lidar_proj.klassen\"\"\"\n",
    "req_gattung = \"\"\"SELECT * FROM lidar_proj.gattungen\"\"\"\n",
    "\n",
    "df_families = db.export_to_pandas(req_families)\n",
    "df_order = db.export_to_pandas(req_order)\n",
    "df_class = db.export_to_pandas(req_class)\n",
    "df_gattung = db.export_to_pandas(req_gattung)\n",
    "\n",
    "df_families.set_index(\"ID\", drop=True, inplace=True)\n",
    "df_order.set_index(\"ID\", drop=True, inplace=True)\n",
    "df_class.set_index(\"ID\", drop=True, inplace=True)\n",
    "df_gattung.set_index(\"ID\", drop=True, inplace=True)"
   ]
  },
  {
   "cell_type": "code",
   "execution_count": 33,
   "id": "ca8e8ecf",
   "metadata": {},
   "outputs": [
    {
     "name": "stdout",
     "output_type": "stream",
     "text": [
      "{'LAT_NAME': 'Abies', 'DT_NAME': ' \\tTannen ', 'ID_FAMILIE': 1.0}\n"
     ]
    }
   ],
   "source": [
    "dict_gattung =df_gattung.to_dict(orient=\"index\")\n",
    "\n",
    "dict_families =df_families.to_dict(orient=\"index\")\n",
    "dict_order =df_order.to_dict(orient=\"index\")\n",
    "dict_class =df_class.to_dict(orient=\"index\")\n",
    "print(dict_gattung[1])\n"
   ]
  },
  {
   "cell_type": "code",
   "execution_count": 37,
   "id": "d4ca21f1",
   "metadata": {},
   "outputs": [
    {
     "name": "stdout",
     "output_type": "stream",
     "text": [
      "{'LAT_NAME': 'Acer', 'DT_NAME': ' \\tAhorne  ', 'ID_FAMILIE': 2.0}\n",
      "{'LAT_NAME': 'Sapindaceae', 'DT_NAME': ' Seifenbaumgewächse ', 'ID_ORDNUNG': 4}\n",
      "{'LAT_NAME': 'Sapindales', 'DT_NAME': 'Seifenbaumartige ', 'ID_KLASSE': 1}\n",
      "{'LAT_NAME': 'Magnoliopsida', 'DT_NAME': ' Bedecktsamer'}\n"
     ]
    }
   ],
   "source": [
    "#luckup klasse\n",
    "gattungs_id = 2\n",
    "print(dict_gattung[gattungs_id])\n",
    "family = dict_families[dict_gattung[gattungs_id]['ID_FAMILIE']]\n",
    "print(family)\n",
    "order = dict_order[family['ID_ORDNUNG']]\n",
    "print(order)\n",
    "c = dict_class[order['ID_KLASSE']]\n",
    "print(c)\n"
   ]
  },
  {
   "cell_type": "code",
   "execution_count": 47,
   "id": "8baab671",
   "metadata": {},
   "outputs": [
    {
     "name": "stdout",
     "output_type": "stream",
     "text": [
      "        Unnamed: 0 Cluster_ID Tree_ID GATTUNGS_ID ALGO_ID         x         y  \\\n",
      "0              0.0        603  102329          10       1  0.056942  0.999999   \n",
      "1              1.0        603  102329          10       1  0.056942  0.999999   \n",
      "2              2.0        603  102329          10       1  0.056942  0.999999   \n",
      "3              3.0        603  102329          10       1  0.056942  0.999999   \n",
      "4              4.0        603  102329          10       1  0.056942  0.999999   \n",
      "...            ...        ...     ...         ...     ...       ...       ...   \n",
      "565062    282528.0        804  107809          69       1  0.057085  0.999999   \n",
      "565063    282529.0        804  107809          69       1  0.057085  0.999999   \n",
      "565064    282530.0        804  107809          69       1  0.057085  0.999999   \n",
      "565065    282531.0        804  107809          69       1  0.057085  0.999999   \n",
      "565066    282532.0        804  107809          69       1  0.057085  0.999999   \n",
      "\n",
      "               z  \n",
      "0       0.000005  \n",
      "1       0.000005  \n",
      "2       0.000005  \n",
      "3       0.000005  \n",
      "4       0.000005  \n",
      "...          ...  \n",
      "565062  0.000005  \n",
      "565063  0.000004  \n",
      "565064  0.000004  \n",
      "565065  0.000004  \n",
      "565066  0.000004  \n",
      "\n",
      "[565067 rows x 8 columns]\n",
      "      Unnamed: 0  Cluster_ID  Tree_ID  GATTUNGS_ID  ALGO_ID         x  \\\n",
      "0              0         805   102924            2        1  0.056926   \n",
      "1              1         805   102924            2        1  0.056926   \n",
      "2              2         805   102924            2        1  0.056926   \n",
      "3              3         805   102924            2        1  0.056926   \n",
      "4              4         805   102924            2        1  0.056926   \n",
      "...          ...         ...      ...          ...      ...       ...   \n",
      "4862        4862         805   102924            2        1  0.056929   \n",
      "4863        4863         805   102924            2        1  0.056929   \n",
      "4864        4864         805   102924            2        1  0.056929   \n",
      "4865        4865         805   102924            2        1  0.056929   \n",
      "4866        4866         805   102924            2        1  0.056929   \n",
      "\n",
      "             y         z  \n",
      "0     0.999998  0.000004  \n",
      "1     0.999998  0.000005  \n",
      "2     0.999998  0.000004  \n",
      "3     0.999998  0.000004  \n",
      "4     0.999998  0.000004  \n",
      "...        ...       ...  \n",
      "4862  0.999999  0.000008  \n",
      "4863  0.999998  0.000008  \n",
      "4864  0.999999  0.000007  \n",
      "4865  0.999999  0.000008  \n",
      "4866  0.999999  0.000007  \n",
      "\n",
      "[4867 rows x 8 columns]\n"
     ]
    },
    {
     "name": "stderr",
     "output_type": "stream",
     "text": [
      "C:\\Users\\janja\\AppData\\Local\\Temp\\ipykernel_16652\\3760531974.py:4: DtypeWarning: Columns (1,2,3,4,5,6,7) have mixed types. Specify dtype option on import or set low_memory=False.\n",
      "  df = pd.read_csv(file)\n"
     ]
    }
   ],
   "source": [
    "csv_folder ='clusters/test'\n",
    "extension = '*.csv' \n",
    "for file in Path(csv_folder).glob(extension):\n",
    "        df = pd.read_csv(file)\n",
    "        print(df)"
   ]
  },
  {
   "cell_type": "code",
   "execution_count": null,
   "id": "6c5d4048",
   "metadata": {},
   "outputs": [],
   "source": [
    "#training_data\n",
    "x_train\n",
    "y_train\n",
    "#test_data\n",
    "x_test\n",
    "y_test"
   ]
  },
  {
   "cell_type": "code",
   "execution_count": null,
   "id": "2e7c5561",
   "metadata": {},
   "outputs": [],
   "source": [
    "#svm linear kernel\n",
    "svc_linear = LinearSVC(kernel='linear', probability=True)\n",
    "svc_linear.fit(x_train, y_train)\n",
    "print_accuracy(svc_linear.predict)\n"
   ]
  },
  {
   "cell_type": "code",
   "execution_count": null,
   "id": "ddb170ff",
   "metadata": {},
   "outputs": [],
   "source": [
    "#Support vector machine with a radial basis function kernel\n",
    "\n",
    "svc_linear = SVC(kernel='rbf', probability=True)\n",
    "svc_linear.fit(x_train, y_train)\n",
    "print_accuracy(svc_linear.predict)\n"
   ]
  },
  {
   "cell_type": "code",
   "execution_count": null,
   "id": "153951e2",
   "metadata": {},
   "outputs": [],
   "source": [
    "#Logistic regression\n",
    "linear_lr = sklearn.linear_model.LogisticRegression()\n",
    "linear_lr.fit(x_train, y_train)\n",
    "print_accuracy(linear_lr.predict)"
   ]
  },
  {
   "cell_type": "code",
   "execution_count": null,
   "id": "f4ddab0b",
   "metadata": {},
   "outputs": [],
   "source": [
    "#decision tree 1:\n",
    "clf = tree.DecisionTreeClassifier()\n",
    "clf = clf.fit(x_train, y_train)\n",
    "clf.predict([[2., 2.]])\n",
    "clf.predict_proba(x_test)\n",
    "clf.score(x_test, y_test)\n",
    "\n",
    "tree.plot_tree(clf)"
   ]
  },
  {
   "cell_type": "code",
   "execution_count": null,
   "id": "275f178e",
   "metadata": {},
   "outputs": [],
   "source": [
    "#decission tree 2:\n",
    "decision_tree = DecisionTreeClassifier(random_state=0, max_depth=2)\n",
    "decision_tree = decision_tree.fit(x_train, y_train)"
   ]
  },
  {
   "cell_type": "code",
   "execution_count": null,
   "id": "39b9574d",
   "metadata": {},
   "outputs": [],
   "source": [
    "#random forest:\n",
    "clf = RandomForestClassifier(n_estimators=100)\n",
    "clf.fit(x_train,y_train)"
   ]
  },
  {
   "cell_type": "code",
   "execution_count": null,
   "id": "6b088d79",
   "metadata": {},
   "outputs": [],
   "source": [
    "#k-nearest neigbour\n",
    "knn = KNeighborsClassifier()\n",
    "knn.fit(x_train, y_train)\n",
    "\n",
    "print_accuracy(knn.predict)"
   ]
  }
 ],
 "metadata": {
  "kernelspec": {
   "display_name": "Python 3 (ipykernel)",
   "language": "python",
   "name": "python3"
  },
  "language_info": {
   "codemirror_mode": {
    "name": "ipython",
    "version": 3
   },
   "file_extension": ".py",
   "mimetype": "text/x-python",
   "name": "python",
   "nbconvert_exporter": "python",
   "pygments_lexer": "ipython3",
   "version": "3.9.12"
  }
 },
 "nbformat": 4,
 "nbformat_minor": 5
}
