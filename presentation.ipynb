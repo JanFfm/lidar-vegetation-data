{
 "cells": [
  {
   "cell_type": "code",
   "execution_count": 22,
   "id": "3e9f21ab",
   "metadata": {},
   "outputs": [],
   "source": [
    "import laspy\n",
    "import visualize\n",
    "import cluster_dbscan\n",
    "from tqdm import tqdm\n",
    "import torch\n",
    "import numpy as np\n",
    "from classifier_net import classifier_network, create_network\n",
    "import matplotlib.pyplot as plt\n",
    "from PIL import Image\n",
    "\n"
   ]
  },
  {
   "cell_type": "code",
   "execution_count": 2,
   "id": "807fb8e5",
   "metadata": {},
   "outputs": [
    {
     "name": "stdout",
     "output_type": "stream",
     "text": [
      "time:  2022-07-23 00:09:52.696111\n",
      "selecting points to cluster by classification\n",
      "clustering\n"
     ]
    },
    {
     "name": "stderr",
     "output_type": "stream",
     "text": [
      "100%|██████████| 3815306/3815306 [00:10<00:00, 356281.13it/s]\n"
     ]
    },
    {
     "name": "stdout",
     "output_type": "stream",
     "text": [
      "building dictionary:\n"
     ]
    },
    {
     "name": "stderr",
     "output_type": "stream",
     "text": [
      "100%|██████████| 5364/5364 [01:07<00:00, 79.20it/s]\n"
     ]
    }
   ],
   "source": [
    "las_file = 'Demo/3dm_32_362_5713_1_nw_classified.las'\n",
    "las_cluster =laspy.read(las_file)\n",
    "las_color =laspy.read(las_file)\n",
    "cluster_dict, color_dict, indices_dict = cluster_dbscan.cluster_las(las_cluster)"
   ]
  },
  {
   "cell_type": "code",
   "execution_count": 3,
   "id": "50469c5d",
   "metadata": {},
   "outputs": [
    {
     "name": "stdout",
     "output_type": "stream",
     "text": [
      "[186 142 171]\n"
     ]
    },
    {
     "name": "stderr",
     "output_type": "stream",
     "text": [
      "100%|██████████| 5363/5363 [00:34<00:00, 155.42it/s]\n"
     ]
    }
   ],
   "source": [
    "print(color_dict[0])\n",
    "for key in tqdm(indices_dict.keys()):\n",
    "    for i in indices_dict[key]:\n",
    "        las_cluster.points['red'][i] = color_dict[key][0]\n",
    "        las_cluster.points['green'][i]= color_dict[key][1]\n",
    "        las_cluster.points['blue'][i]= color_dict[key][2]"
   ]
  },
  {
   "cell_type": "code",
   "execution_count": 4,
   "id": "eaba6595",
   "metadata": {},
   "outputs": [
    {
     "name": "stdout",
     "output_type": "stream",
     "text": [
      "[[0.23137255 0.31372549 0.29411765]\n",
      " [0.28235294 0.36470588 0.3372549 ]\n",
      " [0.23137255 0.32156863 0.24313725]\n",
      " ...\n",
      " [0.25098039 0.30196078 0.36470588]\n",
      " [0.23921569 0.30588235 0.37647059]\n",
      " [0.26666667 0.31372549 0.36862745]]\n"
     ]
    }
   ],
   "source": [
    "#visualize.plot_las_3d(las_cluster)"
   ]
  },
  {
   "cell_type": "code",
   "execution_count": 5,
   "id": "16c27255",
   "metadata": {},
   "outputs": [
    {
     "name": "stdout",
     "output_type": "stream",
     "text": [
      "[[0.23137255 0.31372549 0.29411765]\n",
      " [0.28235294 0.36470588 0.3372549 ]\n",
      " [0.23137255 0.32156863 0.24313725]\n",
      " ...\n",
      " [0.25098039 0.30196078 0.36470588]\n",
      " [0.23921569 0.30588235 0.37647059]\n",
      " [0.26666667 0.31372549 0.36862745]]\n"
     ]
    }
   ],
   "source": [
    "#visualize.plot_las_3d(las_color)"
   ]
  },
  {
   "cell_type": "code",
   "execution_count": 11,
   "id": "c3d3872c",
   "metadata": {},
   "outputs": [
    {
     "name": "stderr",
     "output_type": "stream",
     "text": [
      "100%|██████████| 5363/5363 [00:00<00:00, 18316.27it/s]\n"
     ]
    }
   ],
   "source": [
    "normalized_dict = {}\n",
    "for key in tqdm(cluster_dict.keys()):\n",
    "        points = np.array(cluster_dict[key])\n",
    "        x , y, z = points.transpose()\n",
    "        x = np.array(x)\n",
    "        x = x - np.min(x)\n",
    "        y = np.array(y)\n",
    "        y = y - np.min(y)\n",
    "        z = np.array(z)\n",
    "        z = z - np.min(z)\n",
    "        points = np.array([x,y,z]).transpose()\n",
    "        points = points/ np.max(points)   \n",
    "        normalized_dict[key] = points"
   ]
  },
  {
   "cell_type": "code",
   "execution_count": 41,
   "id": "50b560b4",
   "metadata": {},
   "outputs": [],
   "source": [
    "from monai.transforms import (Compose, AsChannelFirst, AddChannel, Resize,ScaleIntensity, RandGaussianSharpen, SpatialPad, ToTensor, Zoom, LoadImage,RandScaleCrop,OneOf, RandHistogramShift,RandCoarseDropout,AddChannel,RandFlip,RandZoom, RandRotate,EnsureType,NormalizeIntensity, Flip,  RandAdjustContrast, RandGaussianSmooth,RandBiasField,RandStdShiftIntensity,  GaussianSharpen,RandGaussianNoise, HistogramNormalize, RandGibbsNoise, RandKSpaceSpikeNoise, Rotate, compose)\n",
    "\n",
    "\n",
    "network_path = \"0.75_in_e_157_network\"\n",
    "size = 128\n",
    "\n",
    "trans_load_image = Compose([\n",
    "             AsChannelFirst(),\n",
    "             ToTensor(),\n",
    "             Resize((size, size)),\n",
    "\n",
    "             EnsureType(),\n",
    "             ])\n",
    "\n",
    "fit_network_transform = Compose([\n",
    "                                ToTensor(),\n",
    "                                Resize((size, size)),\n",
    "                                ScaleIntensity(), \n",
    "                                EnsureType(),             \n",
    "                                AddChannel(),])\n",
    "        "
   ]
  },
  {
   "cell_type": "code",
   "execution_count": 50,
   "id": "1b33d6d5",
   "metadata": {
    "scrolled": false
   },
   "outputs": [
    {
     "name": "stdout",
     "output_type": "stream",
     "text": [
      "cuda\n",
      "pos weight: 1\n",
      "2  classes to classify\n"
     ]
    },
    {
     "data": {
      "image/png": "[encoded data removed]",
      "text/plain": [
       "<Figure size 432x288 with 1 Axes>"
      ]
     },
     "metadata": {
      "needs_background": "light"
     },
     "output_type": "display_data"
    },
    {
     "name": "stdout",
     "output_type": "stream",
     "text": [
      "tensor([[-6,  6]], device='cuda:0', dtype=torch.int32)\n"
     ]
    }
   ],
   "source": [
    "softmax = torch.nn.Softmax(dim=1)\n",
    "\n",
    "\n",
    "predictions = {}\n",
    "network = classifier_network(None, [1,2] )\n",
    "\n",
    "network.net.load_state_dict(torch.load(network_path))\n",
    "for key in normalized_dict.keys():\n",
    "    list_of_points =normalized_dict[key]\n",
    "\n",
    "    xz = np.zeros([256,256])        \n",
    "    yz = np.zeros([256,256])\n",
    "    xy = np.zeros([256,256])\n",
    "    list_of_points = (list_of_points * 255).astype(int)\n",
    "    for x,y ,z in list_of_points:\n",
    "            xz[255 -z][x] += y\n",
    "            yz[255- z][y] +=x\n",
    "            xy[255 - y][x] += z\n",
    "       \n",
    "    img = np.array([xz, yz, xy]).transpose()\n",
    "    m = np.max(img)\n",
    "    img = (img/m) * 255\n",
    "    img = Image.fromarray(np.uint8(img)).rotate(270)\n",
    "    img = np.array(img)\n",
    "    \n",
    "    img = img/ 255\n",
    "\n",
    "    plt.imshow(img)\n",
    "    plt.show()\n",
    "\n",
    "    \n",
    "    network.net.eval()\n",
    "    image = trans_load_image(img)\n",
    "    #image  = image.type(torch.int)\n",
    "    image = fit_network_transform(image.to(network.device) )   \n",
    "    pred = network.net(image.float()) \n",
    "    #pred = softmax(pred)\n",
    "    predictions[key] = pred.type(torch.int)\n",
    "    print(pred.type(torch.int))\n",
    "    break\n"
   ]
  },
  {
   "cell_type": "code",
   "execution_count": null,
   "id": "50b516dd",
   "metadata": {},
   "outputs": [],
   "source": []
  }
 ],
 "metadata": {
  "kernelspec": {
   "display_name": "Python 3 (ipykernel)",
   "language": "python",
   "name": "python3"
  },
  "language_info": {
   "codemirror_mode": {
    "name": "ipython",
    "version": 3
   },
   "file_extension": ".py",
   "mimetype": "text/x-python",
   "name": "python",
   "nbconvert_exporter": "python",
   "pygments_lexer": "ipython3",
   "version": "3.9.12"
  }
 },
 "nbformat": 4,
 "nbformat_minor": 5
}
