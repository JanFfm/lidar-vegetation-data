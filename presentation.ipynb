{
 "cells": [
  {
   "cell_type": "code",
   "execution_count": 175,
   "id": "3e9f21ab",
   "metadata": {},
   "outputs": [],
   "source": [
    "import laspy\n",
    "import visualize\n",
    "import cluster_dbscan\n",
    "from tqdm import tqdm\n",
    "import torch\n",
    "import numpy as np\n",
    "from classifier_net import classifier_network, create_network\n",
    "import matplotlib.pyplot as plt\n",
    "from PIL import Image\n",
    "import db_settings\n",
    "import geopandas\n",
    "from scipy.spatial import ConvexHull\n",
    "from shapely.geometry import Point\n",
    "from shapely.geometry.polygon import Polygon\n",
    "from shapely.affinity import scale\n",
    "import pandas"
   ]
  },
  {
   "cell_type": "code",
   "execution_count": 176,
   "id": "51ad8c70",
   "metadata": {},
   "outputs": [
    {
     "name": "stdout",
     "output_type": "stream",
     "text": [
      "SELECT ID, NUMBER_OF_TREES FROM lidar_proj.LIDAR_FILES WHERE FILE_NAME = '3dm_32_335_5728_1_nw'\n",
      "SELECT * FROM lidar_proj.trees WHERE city_ID=2 and LIDAR_FILE_ID=913 ORDER BY id\n",
      "Empty DataFrame\n",
      "Columns: [ID, X, Y, CITY_ID, ID_GATTUNG, LIDAR_FILE_ID]\n",
      "Index: []\n"
     ]
    }
   ],
   "source": [
    "# map to \n",
    "db = db_settings.db()\n",
    "#kurve:\n",
    "#las_file = 'Demo/Köln/3dm_32_350_5648_1_nw.las'\n",
    "#las_name = \"3dm_32_350_5648_1_nw\"\n",
    "#geht auch, das feld, vielelicht für CHM?:\n",
    "#las_file = 'Demo/Köln/3dm_32_351_5654_1_nw.las'\n",
    "#las_name = \"3dm_32_351_5654_1_nw\"\n",
    "las_file = 'Demo/color/vegetation_3dm_32_335_5728_1_nw.las'\n",
    "las_name = \"3dm_32_335_5728_1_nw\"\n",
    "req = \"\"\"SELECT ID, NUMBER_OF_TREES FROM lidar_proj.LIDAR_FILES WHERE FILE_NAME = \\'\"\"\"+ las_name+\"\"\"\\'\"\"\"\n",
    "print(req)\n",
    "lidar_file_number = db.export_to_pandas(req)\n",
    "req =\"\"\"SELECT * FROM lidar_proj.trees WHERE city_ID=\"\"\" + str(2) +\"\"\" and LIDAR_FILE_ID=\"\"\"+str(lidar_file_number['ID'].values[0])+\"\"\" ORDER BY id\"\"\"\n",
    "print(req)\n",
    "trees =db.export_to_pandas(req)\n",
    "print(trees)\n"
   ]
  },
  {
   "cell_type": "code",
   "execution_count": 177,
   "id": "807fb8e5",
   "metadata": {
    "scrolled": true
   },
   "outputs": [
    {
     "name": "stdout",
     "output_type": "stream",
     "text": [
      "time:  2022-07-26 00:05:39.730340\n",
      "selecting points to cluster by classification\n",
      "clustering\n"
     ]
    },
    {
     "name": "stderr",
     "output_type": "stream",
     "text": [
      "100%|██████████| 941428/941428 [00:03<00:00, 300619.90it/s]\n"
     ]
    },
    {
     "name": "stdout",
     "output_type": "stream",
     "text": [
      "building dictionary:\n"
     ]
    },
    {
     "name": "stderr",
     "output_type": "stream",
     "text": [
      "100%|██████████| 2877/2877 [00:07<00:00, 409.98it/s]\n"
     ]
    }
   ],
   "source": [
    "#las_file = 'Demo/3dm_32_362_5716_1_nw.las'\n",
    "#las_file = 'Demo/3dm_32_362_5710_1_nw.las'\n",
    "#las_file = 'Demo/3dm_32_370_5709_1_nw_classified.laz'\n",
    "\n",
    "\n",
    "las_cluster =laspy.read(las_file)\n",
    "las_color =laspy.read(las_file)\n",
    "cluster_dict,color_dict, indices_dict = cluster_dbscan.cluster_las(las_cluster)"
   ]
  },
  {
   "cell_type": "code",
   "execution_count": 178,
   "id": "aeb2b945",
   "metadata": {},
   "outputs": [],
   "source": [
    "hull_dict = {}\n",
    "\n",
    "for key in cluster_dict.keys():\n",
    "    tree = np.array(cluster_dict[key]).transpose((1, 0))\n",
    "    x = tree[0]\n",
    "    y = tree[1]    \n",
    "    points_2d = np.array([x,y]).transpose()\n",
    "    if len(points_2d) > 150:\n",
    "                hull = ConvexHull(points_2d)\n",
    "                poly = Polygon(points_2d[hull.vertices])\n",
    "                poly = scale(poly, xfact=1.1,yfact=1.1)\n",
    "                hull_dict[key] = poly\n",
    "                \n",
    "\n"
   ]
  },
  {
   "cell_type": "code",
   "execution_count": 169,
   "id": "e195bae7",
   "metadata": {},
   "outputs": [],
   "source": [
    "#trees['coords'] = np.array(zip(trees['X'],trees['Y']))\n",
    "#trees['coords'] = trees['coords'].apply(Point)\n",
    "#trees_df = geopandas.GeoDataFrame(trees, geometry='coords', crs=\"EPSG:25832\")\n",
    "#print(trees)                \n"
   ]
  },
  {
   "cell_type": "code",
   "execution_count": 170,
   "id": "d12aa926",
   "metadata": {},
   "outputs": [],
   "source": [
    "#hulls_df = pandas.DataFrame({'HULL_DICT_KEY': hull_dict.keys(), 'coords': hull_dict.values()})\n",
    "#hulls_df = geopandas.GeoDataFrame(hulls_df, geometry='coords', crs=\"EPSG:25832\")\n",
    "#print(\"calculating joins\")\n",
    "#intersections = geopandas.tools.sjoin(trees_df,hulls_df, op=\"intersects\", how='inner') #intersects\n",
    "#print(intersections)"
   ]
  },
  {
   "cell_type": "code",
   "execution_count": 180,
   "id": "50469c5d",
   "metadata": {},
   "outputs": [
    {
     "name": "stderr",
     "output_type": "stream",
     "text": [
      "100%|██████████| 2876/2876 [00:08<00:00, 349.94it/s]\n"
     ]
    }
   ],
   "source": [
    "#print(color_dict[0])\n",
    "#k = np.unique(np.array(intersections.HULL_DICT_KEY))\n",
    "#print(len(k))\n",
    "for key in tqdm(cluster_dict.keys()):\n",
    "    for i in indices_dict[key]:\n",
    "        las_cluster.points['red'][i] = color_dict[key][0]\n",
    "        las_cluster.points['green'][i]= color_dict[key][1]\n",
    "        las_cluster.points['blue'][i]= color_dict[key][2]"
   ]
  },
  {
   "cell_type": "code",
   "execution_count": 182,
   "id": "eaba6595",
   "metadata": {},
   "outputs": [
    {
     "name": "stdout",
     "output_type": "stream",
     "text": [
      "[[0.38039216 0.35686275 0.36470588]\n",
      " [0.3372549  0.3372549  0.3372549 ]\n",
      " [0.4        0.37647059 0.38431373]\n",
      " ...\n",
      " [0.29411765 0.38823529 0.33333333]\n",
      " [0.29019608 0.38431373 0.32941176]\n",
      " [0.27058824 0.36470588 0.30196078]]\n"
     ]
    }
   ],
   "source": [
    "visualize.plot_las_3d(las_cluster)"
   ]
  },
  {
   "cell_type": "code",
   "execution_count": 184,
   "id": "84803820",
   "metadata": {},
   "outputs": [],
   "source": []
  },
  {
   "cell_type": "code",
   "execution_count": 160,
   "id": "16c27255",
   "metadata": {},
   "outputs": [],
   "source": [
    "#visualize.plot_las_3d(las_color)"
   ]
  },
  {
   "cell_type": "code",
   "execution_count": 204,
   "id": "c3d3872c",
   "metadata": {},
   "outputs": [
    {
     "name": "stderr",
     "output_type": "stream",
     "text": [
      "100%|██████████| 2876/2876 [00:00<00:00, 21174.65it/s]"
     ]
    },
    {
     "name": "stdout",
     "output_type": "stream",
     "text": [
      "5728901.58\n"
     ]
    },
    {
     "name": "stderr",
     "output_type": "stream",
     "text": [
      "\n"
     ]
    }
   ],
   "source": [
    "normalized_dict = {}\n",
    "for key in tqdm(cluster_dict.keys()):\n",
    "        points = np.array(cluster_dict[key])\n",
    "        \n",
    "        x , y, z = points.transpose()\n",
    "        factor = max(np.max(x),np.max(y), np.max(z))\n",
    "        \n",
    "        x = np.array(x)\n",
    "        x = (x - np.min(x))/factor\n",
    "        y = np.array(y)\n",
    "        y = (y - np.min(y))/factor\n",
    "        z = np.array(z)\n",
    "        z = (z - np.min(z))/factor\n",
    "        points = np.array([x,y,z]).transpose()\n",
    "        normalized_dict[key] = points\n",
    "print(factor)"
   ]
  },
  {
   "cell_type": "code",
   "execution_count": 244,
   "id": "50b560b4",
   "metadata": {},
   "outputs": [],
   "source": [
    "from monai.transforms import (Compose, AsChannelFirst, AddChannel, Resize,ScaleIntensity, RandGaussianSharpen, SpatialPad, ToTensor, Zoom, LoadImage,RandScaleCrop,OneOf, RandHistogramShift,RandCoarseDropout,AddChannel,RandFlip,RandZoom, RandRotate,EnsureType,NormalizeIntensity, Flip,  RandAdjustContrast, RandGaussianSmooth,RandBiasField,RandStdShiftIntensity,  GaussianSharpen,RandGaussianNoise, HistogramNormalize, RandGibbsNoise, RandKSpaceSpikeNoise, Rotate, compose)\n",
    "\n",
    "\n",
    "network_path =\"0.41975308678768297_in_e_0_network\"#\"denseNetBinaryClass\"\n",
    "size = 128\n",
    "\n",
    "trans_load_image = Compose([\n",
    "             AsChannelFirst(),\n",
    "             ToTensor(),\n",
    "             Resize((size, size)),\n",
    "\n",
    "             EnsureType(),\n",
    "             ])\n",
    "\n",
    "fit_network_transform = Compose([\n",
    "                                ToTensor(),\n",
    "                                Resize((size, size)),\n",
    "                                ScaleIntensity(), \n",
    "                                EnsureType(),             \n",
    "                                AddChannel(),])\n",
    "        "
   ]
  },
  {
   "cell_type": "code",
   "execution_count": 245,
   "id": "1b33d6d5",
   "metadata": {
    "scrolled": false
   },
   "outputs": [
    {
     "name": "stdout",
     "output_type": "stream",
     "text": [
      "cuda\n",
      "pos weight: 1\n",
      "2  classes to classify\n"
     ]
    },
    {
     "name": "stderr",
     "output_type": "stream",
     "text": [
      "100%|██████████| 2876/2876 [01:19<00:00, 36.32it/s]\n"
     ]
    }
   ],
   "source": [
    "softmax = torch.nn.Softmax(dim=1)\n",
    "\n",
    "\n",
    "predictions = {}\n",
    "network = classifier_network(None, [1,2] )\n",
    "\n",
    "network.net.load_state_dict(torch.load(network_path))\n",
    "network.net.eval()\n",
    "\n",
    "for key in tqdm(normalized_dict.keys()):\n",
    "    list_of_points =normalized_dict[key]\n",
    "\n",
    "    xz = np.zeros([256,256])        \n",
    "    yz = np.zeros([256,256])\n",
    "    xy = np.zeros([256,256])\n",
    "    list_of_points = (list_of_points * 255).astype(int)\n",
    "    for x,y ,z in list_of_points:\n",
    "            xz[255 -z][x] += y\n",
    "            yz[255- z][y] +=x\n",
    "            xy[255 - y][x] += z\n",
    "       \n",
    "    img = np.array([xz, yz, xy]).transpose()\n",
    "    m = np.max(img)\n",
    "    img = (img/m) * 255\n",
    "    img = Image.fromarray(np.uint8(img)).rotate(270)\n",
    "    img = np.array(img)\n",
    "    \n",
    "    img = img/ 255\n",
    "\n",
    "    #plt.imshow(img)\n",
    "    #plt.show()\n",
    "\n",
    "    \n",
    "    image = trans_load_image(img)\n",
    "    #image  = image.type(torch.int)\n",
    "    image = fit_network_transform(image.to(network.device) )   \n",
    "    pred = network.net(image.float()) \n",
    "    pred = softmax(pred)\n",
    "\n",
    "    pred = pred.cpu().detach().numpy()\n",
    "    predictions[key] = np.argmax(pred)\n",
    "    if (np.argmax(pred) ==0):\n",
    "        print(0)\n",
    "   \n",
    "    \n",
    "    \n"
   ]
  },
  {
   "cell_type": "code",
   "execution_count": 227,
   "id": "50b516dd",
   "metadata": {},
   "outputs": [],
   "source": [
    "color_dict_classification = color_dict\n",
    "for key in predictions.keys():\n",
    "    if predictions[key] == 1:\n",
    "        color_dict_classification[key] = [48, 138, 70]\n",
    "    else:\n",
    "         color_dict_classification[key] = [0,0,0]# [0, 58, 34]"
   ]
  },
  {
   "cell_type": "code",
   "execution_count": 228,
   "id": "4ae97f3c",
   "metadata": {},
   "outputs": [
    {
     "name": "stderr",
     "output_type": "stream",
     "text": [
      "100%|██████████| 2876/2876 [00:07<00:00, 365.91it/s]\n"
     ]
    }
   ],
   "source": [
    "las_w_pred = las_color\n",
    "for key in tqdm(cluster_dict.keys()):\n",
    "    for i in indices_dict[key]:\n",
    "        las_w_pred.points['red'][i] = color_dict_classification[key][0]\n",
    "        las_w_pred.points['green'][i]= color_dict_classification[key][1]\n",
    "        las_w_pred.points['blue'][i]= color_dict_classification[key][2]"
   ]
  },
  {
   "cell_type": "code",
   "execution_count": 229,
   "id": "04195995",
   "metadata": {},
   "outputs": [
    {
     "name": "stdout",
     "output_type": "stream",
     "text": [
      "[[0.38039216 0.35686275 0.36470588]\n",
      " [0.3372549  0.3372549  0.3372549 ]\n",
      " [0.4        0.37647059 0.38431373]\n",
      " ...\n",
      " [0.29411765 0.38823529 0.33333333]\n",
      " [0.29019608 0.38431373 0.32941176]\n",
      " [0.27058824 0.36470588 0.30196078]]\n"
     ]
    }
   ],
   "source": [
    "visualize.plot_las_3d(las_w_pred)"
   ]
  },
  {
   "cell_type": "code",
   "execution_count": 213,
   "id": "30753a6d",
   "metadata": {},
   "outputs": [],
   "source": [
    "#las_w_pred.write(\"pred_las.laz\")"
   ]
  },
  {
   "cell_type": "code",
   "execution_count": null,
   "id": "e9e1d48b",
   "metadata": {},
   "outputs": [],
   "source": []
  }
 ],
 "metadata": {
  "kernelspec": {
   "display_name": "Python 3 (ipykernel)",
   "language": "python",
   "name": "python3"
  },
  "language_info": {
   "codemirror_mode": {
    "name": "ipython",
    "version": 3
   },
   "file_extension": ".py",
   "mimetype": "text/x-python",
   "name": "python",
   "nbconvert_exporter": "python",
   "pygments_lexer": "ipython3",
   "version": "3.9.12"
  }
 },
 "nbformat": 4,
 "nbformat_minor": 5
}
