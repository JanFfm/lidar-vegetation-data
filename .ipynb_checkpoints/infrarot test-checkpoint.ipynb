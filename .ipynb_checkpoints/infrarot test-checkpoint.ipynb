{
 "cells": [
  {
   "cell_type": "code",
   "execution_count": 1,
   "id": "40f8a656-7b81-4bb8-a56d-9b5d3114ee9d",
   "metadata": {},
   "outputs": [],
   "source": [
    "import folium\n",
    "import laspy\n",
    "import coord_f\n",
    "import matplotlib.pyplot as plt\n",
    "import numpy\n",
    "%matplotlib inline  \n",
    "from owslib.wms import WebMapService\n",
    "from PIL import Image\n"
   ]
  },
  {
   "cell_type": "code",
   "execution_count": 2,
   "id": "998ce815-c757-44f8-af01-6c08e2ddf6d9",
   "metadata": {},
   "outputs": [
    {
     "data": {
      "text/html": [
       "<div style=\"width:100%;\"><div style=\"position:relative;width:100%;height:0;padding-bottom:60%;\"><iframe src=\"data:text/html;charset=utf-8;base64,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\" style=\"position:absolute;width:100%;height:100%;left:0;top:0;border:none !important;\" allowfullscreen webkitallowfullscreen mozallowfullscreen></iframe></div></div>"
      ],
      "text/plain": [
       "<folium.folium.Map at 0x1a2f2d38b20>"
      ]
     },
     "execution_count": 2,
     "metadata": {},
     "output_type": "execute_result"
    }
   ],
   "source": [
    "tiles = 'https://server.arcgisonline.com/ArcGIS/rest/services/World_Imagery/MapServer/tile/{z}/{y}/{x}',\n",
    "\n",
    "\n",
    "las_file = \"lidar-files/1original/Wesel/3dm_32_324_5729_1_nw.laz\"\n",
    "las = laspy.read(las_file)\n",
    "las_points_x = numpy.array(las.points['x']) \n",
    "las_points_y = numpy.array(las.points['y'])\n",
    "x2, x1, y2, y1 = las_points_x.max(),  las_points_x.min(), las_points_y.max(),  las_points_y.min()\n",
    "\n",
    "\n",
    "\n",
    "lat,long = coord_f.utm_to_lat_long(x2, y2)\n",
    "lat_min,long_min = coord_f.utm_to_lat_long(x1, y1)\n",
    "\n",
    "f_map = folium.Map(location=[lat, long], zoom_start=14)\n",
    "#add las area:\n",
    "folium.Marker(location=[lat, long],icon=folium.Icon(color=\"red\")).add_to( f_map )\n",
    "folium.Marker(location=[lat_min, long_min],icon=folium.Icon(color=\"red\")).add_to( f_map )\n",
    "folium.Marker(location=[lat, long_min],icon=folium.Icon(color=\"red\")).add_to( f_map )\n",
    "folium.Marker(location=[lat_min, long],icon=folium.Icon(color=\"red\")).add_to( f_map )\n",
    "\n",
    "f_map"
   ]
  },
  {
   "cell_type": "code",
   "execution_count": 9,
   "id": "c9f9348c-ad5b-4206-8aec-f65a3029c694",
   "metadata": {},
   "outputs": [
    {
     "name": "stdout",
     "output_type": "stream",
     "text": [
      "['WMS_NW_DOP', 'nw_dop_utm_info', 'nw_dop_rgb', 'nw_dop_cir', 'nw_dop_nir']\n",
      "nw_dop_rgb\n",
      "1.1.1\n",
      "bounding box:  (5.59334, 50.0578, 9.74158, 52.7998)\n",
      "box (51.693638655888655, 6.467914565939427, 51.68434360036539, 6.453965297384086)\n"
     ]
    },
    {
     "ename": "ServiceException",
     "evalue": "msWMSLoadGetMapParams(): WMS server error. Invalid values for BBOX.",
     "output_type": "error",
     "traceback": [
      "\u001b[1;31m---------------------------------------------------------------------------\u001b[0m",
      "\u001b[1;31mServiceException\u001b[0m                          Traceback (most recent call last)",
      "Input \u001b[1;32mIn [9]\u001b[0m, in \u001b[0;36m<cell line: 17>\u001b[1;34m()\u001b[0m\n\u001b[0;32m     15\u001b[0m \u001b[38;5;28mprint\u001b[39m(\u001b[38;5;124m'\u001b[39m\u001b[38;5;124mbox\u001b[39m\u001b[38;5;124m'\u001b[39m, box)\n\u001b[0;32m     16\u001b[0m \u001b[38;5;66;03m#box = (5.59334, 50.0578, 9.74158, 52.7998)\u001b[39;00m\n\u001b[1;32m---> 17\u001b[0m img \u001b[38;5;241m=\u001b[39m \u001b[43mwms\u001b[49m\u001b[38;5;241;43m.\u001b[39;49m\u001b[43mgetmap\u001b[49m\u001b[43m(\u001b[49m\u001b[43mlayers\u001b[49m\u001b[38;5;241;43m=\u001b[39;49m\u001b[43m[\u001b[49m\u001b[43mcolor_map\u001b[49m\u001b[43m]\u001b[49m\u001b[43m,\u001b[49m\u001b[43msrs\u001b[49m\u001b[38;5;241;43m=\u001b[39;49m\u001b[38;5;124;43m'\u001b[39;49m\u001b[38;5;124;43mEPSG:4326\u001b[39;49m\u001b[38;5;124;43m'\u001b[39;49m\u001b[43m,\u001b[49m\u001b[43m \u001b[49m\u001b[43mbbox\u001b[49m\u001b[38;5;241;43m=\u001b[39;49m\u001b[43mbox\u001b[49m\u001b[43m,\u001b[49m\u001b[43m \u001b[49m\u001b[38;5;28;43mformat\u001b[39;49m\u001b[38;5;241;43m=\u001b[39;49m\u001b[38;5;124;43m'\u001b[39;49m\u001b[38;5;124;43mimage/jpeg\u001b[39;49m\u001b[38;5;124;43m'\u001b[39;49m\u001b[43m,\u001b[49m\u001b[43mtransparent\u001b[49m\u001b[38;5;241;43m=\u001b[39;49m\u001b[38;5;28;43;01mFalse\u001b[39;49;00m\u001b[43m,\u001b[49m\u001b[43m \u001b[49m\u001b[43msize\u001b[49m\u001b[38;5;241;43m=\u001b[39;49m\u001b[43m[\u001b[49m\u001b[43msize\u001b[49m\u001b[43m,\u001b[49m\u001b[43msize\u001b[49m\u001b[43m]\u001b[49m\u001b[43m)\u001b[49m \u001b[38;5;66;03m#\u001b[39;00m\n\u001b[0;32m     18\u001b[0m img \u001b[38;5;241m=\u001b[39mnumpy\u001b[38;5;241m.\u001b[39marray(Image\u001b[38;5;241m.\u001b[39mopen(img))\n",
      "File \u001b[1;32m~\\anaconda3\\envs\\bahn\\lib\\site-packages\\owslib\\map\\wms111.py:269\u001b[0m, in \u001b[0;36mWebMapService_1_1_1.getmap\u001b[1;34m(self, layers, styles, srs, bbox, format, size, time, transparent, bgcolor, exceptions, method, timeout, **kwargs)\u001b[0m\n\u001b[0;32m    267\u001b[0m     se_tree \u001b[38;5;241m=\u001b[39m etree\u001b[38;5;241m.\u001b[39mfromstring(se_xml)\n\u001b[0;32m    268\u001b[0m     err_message \u001b[38;5;241m=\u001b[39m \u001b[38;5;28mstr\u001b[39m(se_tree\u001b[38;5;241m.\u001b[39mfind(\u001b[38;5;124m'\u001b[39m\u001b[38;5;124mServiceException\u001b[39m\u001b[38;5;124m'\u001b[39m)\u001b[38;5;241m.\u001b[39mtext)\u001b[38;5;241m.\u001b[39mstrip()\n\u001b[1;32m--> 269\u001b[0m     \u001b[38;5;28;01mraise\u001b[39;00m ServiceException(err_message)\n\u001b[0;32m    270\u001b[0m \u001b[38;5;28;01mreturn\u001b[39;00m u\n",
      "\u001b[1;31mServiceException\u001b[0m: msWMSLoadGetMapParams(): WMS server error. Invalid values for BBOX."
     ]
    }
   ],
   "source": [
    "\n",
    "\n",
    "\n",
    "size=2000\n",
    "\n",
    "wms_nrw = \"https://www.wms.nrw.de/geobasis/wms_nw_dop\"\n",
    "nasa_map_key = \"eb85268ac9785f26c2bd58bfe182fbe\"\n",
    "\n",
    "wms= WebMapService(wms_nrw, version='1.1.1',username='',  password=\"\")\n",
    "wms_content = list(wms.contents)\n",
    "print(wms_content)\n",
    "color_map = wms_content[2]\n",
    "print(color_map)\n",
    "print(wms.identification.version)\n",
    "print('bounding box: ', wms[color_map].boundingBoxWGS84)\n",
    "box=(lat,long,lat_min,long_min)\n",
    "\n",
    "print('box', box)\n",
    "#box = (5.59334, 50.0578, 9.74158, 52.7998)\n",
    "img = wms.getmap(layers=[color_map],srs='EPSG:4326', bbox=box, format='image/jpeg',transparent=False, size=[size,size]) #\n",
    "img =numpy.array(Image.open(img))"
   ]
  },
  {
   "cell_type": "code",
   "execution_count": 6,
   "id": "fc6c73fe-85bf-486f-a7ca-ce0690cc35ef",
   "metadata": {},
   "outputs": [
    {
     "data": {
      "image/png": "[encoded data removed]",
      "text/plain": [
       "<Figure size 432x288 with 1 Axes>"
      ]
     },
     "metadata": {
      "needs_background": "light"
     },
     "output_type": "display_data"
    }
   ],
   "source": [
    "plt.imshow(img)\n",
    "plt.show()"
   ]
  },
  {
   "cell_type": "code",
   "execution_count": null,
   "id": "92012fec-1ea3-4d9a-8602-24324a62ee00",
   "metadata": {},
   "outputs": [],
   "source": []
  }
 ],
 "metadata": {
  "kernelspec": {
   "display_name": "Python 3 (ipykernel)",
   "language": "python",
   "name": "python3"
  },
  "language_info": {
   "codemirror_mode": {
    "name": "ipython",
    "version": 3
   },
   "file_extension": ".py",
   "mimetype": "text/x-python",
   "name": "python",
   "nbconvert_exporter": "python",
   "pygments_lexer": "ipython3",
   "version": "3.9.12"
  }
 },
 "nbformat": 4,
 "nbformat_minor": 5
}
