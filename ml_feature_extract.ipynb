{
 "cells": [
  {
   "cell_type": "code",
   "execution_count": 63,
   "id": "c636d038",
   "metadata": {},
   "outputs": [
    {
     "name": "stdout",
     "output_type": "stream",
     "text": [
      "c:\\Users\\janja\\Desktop\\GitHub\\lidar-vegetation-data\n"
     ]
    }
   ],
   "source": [
    "from sklearn import tree\n",
    "from sklearn.tree import DecisionTreeClassifier\n",
    "from sklearn.ensemble import RandomForestClassifier\n",
    "from sklearn.neighbors import KNeighborsClassifier\n",
    "from sklearn.linear_model import LogisticRegression\n",
    "from sklearn.model_selection import train_test_split\n",
    "from sklearn.metrics import accuracy_score, balanced_accuracy_score\n",
    "from sklearn.svm import SVC\n",
    "import db_settings\n",
    "import pyexasol\n",
    "from pathlib import Path\n",
    "import warnings\n",
    "import csv\n",
    "import pandas as pd\n",
    "import numpy as np\n",
    "import os\n",
    "import matplotlib.pyplot as plt\n",
    "import random\n",
    "from mpl_toolkits.mplot3d import Axes3D\n",
    "print(os.getcwd())"
   ]
  },
  {
   "cell_type": "code",
   "execution_count": 72,
   "id": "9845218f",
   "metadata": {},
   "outputs": [],
   "source": [
    "def get_class(id):\n",
    "    family = dict_families[dict_gattung[id]['ID_FAMILIE']]\n",
    "    order = dict_order[family['ID_ORDNUNG']]\n",
    "    c = order['ID_KLASSE']\n",
    "    return c\n",
    "def get_order(id):\n",
    "    family = dict_families[dict_gattung[id]['ID_FAMILIE']]\n",
    "    o = family['ID_ORDNUNG']\n",
    "    return o\n",
    "def get_family(id):\n",
    "    f = dict_families[dict_gattung[id]['ID_FAMILIE']]\n",
    "    return f\n",
    "    \n",
    "\n",
    "    "
   ]
  },
  {
   "cell_type": "code",
   "execution_count": 3,
   "id": "ef109e51",
   "metadata": {},
   "outputs": [],
   "source": [
    "db =db_settings.db(autocommit=False)\n"
   ]
  },
  {
   "cell_type": "code",
   "execution_count": 4,
   "id": "d51d1ced",
   "metadata": {},
   "outputs": [],
   "source": [
    "req_families = \"\"\"SELECT * FROM lidar_proj.familien\"\"\"\n",
    "req_order = \"\"\"SELECT * FROM lidar_proj.ordnungen\"\"\"\n",
    "req_class = \"\"\"SELECT * FROM lidar_proj.klassen\"\"\"\n",
    "req_gattung = \"\"\"SELECT * FROM lidar_proj.gattungen\"\"\"\n",
    "\n",
    "df_families = db.export_to_pandas(req_families)\n",
    "df_order = db.export_to_pandas(req_order)\n",
    "df_class = db.export_to_pandas(req_class)\n",
    "df_gattung = db.export_to_pandas(req_gattung)\n",
    "\n",
    "df_families.set_index(\"ID\", drop=True, inplace=True)\n",
    "df_order.set_index(\"ID\", drop=True, inplace=True)\n",
    "df_class.set_index(\"ID\", drop=True, inplace=True)\n",
    "df_gattung.set_index(\"ID\", drop=True, inplace=True)"
   ]
  },
  {
   "cell_type": "code",
   "execution_count": 64,
   "id": "ca8e8ecf",
   "metadata": {},
   "outputs": [
    {
     "name": "stdout",
     "output_type": "stream",
     "text": [
      "{'LAT_NAME': 'Abies', 'DT_NAME': ' \\tTannen ', 'ID_FAMILIE': 1.0}\n"
     ]
    }
   ],
   "source": [
    "global dict_gattung\n",
    "global dict_families\n",
    "global dict_order\n",
    "global dict_class\n",
    "\n",
    "dict_gattung =df_gattung.to_dict(orient=\"index\")\n",
    "\n",
    "dict_families =df_families.to_dict(orient=\"index\")\n",
    "dict_order =df_order.to_dict(orient=\"index\")\n",
    "dict_class =df_class.to_dict(orient=\"index\")\n",
    "print(dict_gattung[1])\n"
   ]
  },
  {
   "cell_type": "code",
   "execution_count": 65,
   "id": "d4ca21f1",
   "metadata": {},
   "outputs": [
    {
     "name": "stdout",
     "output_type": "stream",
     "text": [
      "{'LAT_NAME': 'Aesculus', 'DT_NAME': ' \\tRosskastanien  ', 'ID_FAMILIE': 2.0}\n",
      "{'LAT_NAME': 'Sapindaceae', 'DT_NAME': ' Seifenbaumgewächse ', 'ID_ORDNUNG': 4}\n",
      "{'LAT_NAME': 'Sapindales', 'DT_NAME': 'Seifenbaumartige ', 'ID_KLASSE': 1}\n",
      "{'LAT_NAME': 'Magnoliopsida', 'DT_NAME': ' Bedecktsamer'}\n"
     ]
    }
   ],
   "source": [
    "#luckup klasse\n",
    "gattungs_id = 3\n",
    "print(dict_gattung[gattungs_id])\n",
    "family = dict_families[dict_gattung[gattungs_id]['ID_FAMILIE']]\n",
    "print(family)\n",
    "order = dict_order[family['ID_ORDNUNG']]\n",
    "print(order)\n",
    "c = dict_class[order['ID_KLASSE']]\n",
    "print(c)\n"
   ]
  },
  {
   "cell_type": "code",
   "execution_count": 95,
   "id": "8baab671",
   "metadata": {},
   "outputs": [
    {
     "name": "stdout",
     "output_type": "stream",
     "text": [
      "10  files imported\n"
     ]
    }
   ],
   "source": [
    "csv_folder ='clusters/dbscan'\n",
    "extension = '*.csv' \n",
    "features_list = []\n",
    "for file in Path(csv_folder).glob(extension):\n",
    "        df = pd.read_csv(file)\n",
    "        features_list.append(df)\n",
    "print(len(features_list), \" files imported\")\n",
    "individuals = []\n",
    "for df in features_list:     \n",
    "        cluster_ids = np.unique(np.array(df['Cluster_ID']).astype(int))\n",
    "        for id in cluster_ids:\n",
    "                df_split =df[df['Cluster_ID'] == id]\n",
    "                individuals.append(df_split)\n",
    "features =[]\n",
    "labels_unedited = []\n",
    "max_points = 0\n",
    "for individuum in individuals:\n",
    "        id = np.unique(np.array(individuum['Cluster_ID']).astype(int))[0]\n",
    "        gattung = np.unique(np.array(individuum['GATTUNGS_ID']).astype(int))[0]\n",
    "        xyz = list(np.array([individuum['x'],individuum['y'],individuum['z']]).transpose())\n",
    "        #wieviele punkte hat die größte Punktwolke\n",
    "       \n",
    "        feature = [individuum.describe()['x']['count']]\n",
    "        labels_unedited.append(gattung)\n",
    "        for xyz in ['x', 'y', 'z']:   \n",
    "                feature += [individuum.describe()[xyz]['mean'], individuum.describe()[xyz]['std'], individuum.describe()[xyz]['min'],individuum.describe()[xyz]['max'], individuum.describe()[xyz]['25%'],individuum.describe()[xyz]['50%'], individuum.describe()[xyz]['75%']]\n",
    "        features.append(feature)\n",
    "        \n"
   ]
  },
  {
   "cell_type": "code",
   "execution_count": 100,
   "id": "187c46d3",
   "metadata": {},
   "outputs": [
    {
     "name": "stdout",
     "output_type": "stream",
     "text": [
      "[1 1 1 1 1 1 1 1 1 1 1 1 1 1 1 1 1 1 1 1 1 1 2 1 1 1 1 1 1 1 1 1 1 1 1 1 1\n",
      " 1 1 1 1 2 1 1 1 1 1 1 2 1 1 2 2 1 1 1 1 1 1 1 1 1 1 1 1 1 1 1 1 1 1 1 1 1\n",
      " 1 1 1 2 2 1 1 1 2 1 1 1 1 1 1 1 1 1 1 1 1 2 1 1 2 1 1 1 1 1 1 1 1 1 1 1 1\n",
      " 1 1 1 1 1 1 1 1 1 1 1 1 1 1 1 1 1 1 1 1 1 1 1 1 1 1 1 1 1 1 1 1 1 1 1 1 1\n",
      " 1 1 1 1 1 1 1 1 1 1 1 1 1 1 1 1 1 1 1 1 1 1 1 1 1 1 1 1 1 1 1 1 1 1 1 1 1\n",
      " 1 1 1 1 1 1 1 1 1 1 1 1 1 1 1 1 1 1 1 1 1 1 1 1 1 1 1 1 1 1 1 1 1 1 1 1 1\n",
      " 1 1 1 1 1 1 1 1 1 1 1 2 1 1 1 1 1 1 1 1 1 1 1 1 1 2 1 1 1 1 1 1 1 1 1 1 1\n",
      " 1 1 1 1 1 1 1 2 1 1 1 1 1 1 1 1]\n",
      "275  individuums in train/test-set\n"
     ]
    }
   ],
   "source": [
    "#set labels to class-labels\n",
    "labels = np.array(list(map(get_class, labels_unedited)))\n",
    "\n",
    "#mappimg ginko as conidera\n",
    "labels = np.array(list(map(lambda x: 2 if x==3 else x, labels)))\n",
    "\n",
    "print(labels)\n",
    "print(len(labels), \" individuums in train/test-set\")"
   ]
  },
  {
   "cell_type": "code",
   "execution_count": 101,
   "id": "6c5d4048",
   "metadata": {},
   "outputs": [
    {
     "name": "stdout",
     "output_type": "stream",
     "text": [
      "275\n",
      "(184, 22) 184\n"
     ]
    }
   ],
   "source": [
    "labels = np.array(labels)\n",
    "features = np.array(features)\n",
    "print(len(labels))\n",
    "X_train, X_test, y_train, y_test = train_test_split(features, labels, test_size=0.33, random_state=42)\n",
    "print(X_train.shape, len(y_train))\n",
    "print(\"test-set:\", list(zip(X_test, y_test)))"
   ]
  },
  {
   "cell_type": "code",
   "execution_count": 102,
   "id": "2e7c5561",
   "metadata": {},
   "outputs": [
    {
     "name": "stdout",
     "output_type": "stream",
     "text": [
      "(184, 22)\n",
      "(184,)\n",
      "[(1, 1), (1, 1), (1, 1), (2, 1), (1, 1), (1, 2), (2, 1), (2, 1), (2, 1), (2, 1), (1, 1), (1, 1), (1, 1), (1, 1), (1, 1), (1, 1), (1, 1), (2, 1), (1, 1), (1, 1), (1, 1), (1, 1), (2, 1), (1, 1), (1, 1), (2, 1), (2, 1), (1, 1), (1, 1), (2, 1), (1, 2), (1, 1), (2, 1), (2, 1), (1, 1), (1, 1), (2, 1), (1, 1), (1, 1), (1, 1), (1, 1), (2, 1), (1, 1), (1, 1), (2, 1), (1, 1), (1, 1), (1, 1), (1, 1), (1, 1), (1, 1), (1, 1), (1, 1), (1, 1), (1, 1), (1, 1), (2, 1), (1, 1), (1, 1), (2, 1), (1, 1), (1, 1), (1, 1), (1, 1), (1, 1), (1, 1), (1, 1), (1, 1), (1, 1), (1, 1), (2, 1), (1, 1), (1, 1), (1, 2), (1, 1), (1, 1), (2, 1), (2, 1), (2, 2), (2, 1), (1, 1), (1, 1), (1, 1), (1, 1), (2, 1), (1, 1), (1, 1), (1, 1), (1, 1), (1, 1), (1, 1)]\n",
      "0.7252747252747253\n",
      "-0.002873563218390829\n"
     ]
    }
   ],
   "source": [
    "#svm linear kernel\n",
    "print(X_train.shape)\n",
    "print(y_train.shape)\n",
    "svc_linear = SVC(kernel='linear', probability=True, class_weight='balanced')  #, class_weight='balanced'\n",
    "svc_linear.fit(X_train, y_train)\n",
    "y_pred = svc_linear.predict(X_test)\n",
    "print(list(zip(y_pred, y_test)))\n",
    "print(accuracy_score(y_test, y_pred))\n",
    "\n",
    "print(balanced_accuracy_score(y_test, y_pred, adjusted=True))\n"
   ]
  },
  {
   "cell_type": "code",
   "execution_count": 103,
   "id": "ddb170ff",
   "metadata": {},
   "outputs": [
    {
     "name": "stdout",
     "output_type": "stream",
     "text": [
      "[(2, 1), (2, 1), (1, 1), (2, 1), (2, 1), (2, 2), (2, 1), (2, 1), (2, 1), (2, 1), (1, 1), (2, 1), (2, 1), (2, 1), (2, 1), (2, 1), (2, 1), (2, 1), (2, 1), (2, 1), (2, 1), (2, 1), (2, 1), (2, 1), (2, 1), (2, 1), (2, 1), (2, 1), (2, 1), (2, 1), (2, 2), (2, 1), (2, 1), (2, 1), (2, 1), (2, 1), (2, 1), (2, 1), (2, 1), (2, 1), (2, 1), (2, 1), (2, 1), (2, 1), (2, 1), (2, 1), (2, 1), (2, 1), (2, 1), (2, 1), (2, 1), (2, 1), (2, 1), (2, 1), (2, 1), (2, 1), (2, 1), (2, 1), (2, 1), (2, 1), (2, 1), (2, 1), (2, 1), (2, 1), (2, 1), (1, 1), (2, 1), (2, 1), (2, 1), (2, 1), (2, 1), (2, 1), (2, 1), (2, 2), (1, 1), (2, 1), (2, 1), (2, 1), (2, 2), (2, 1), (2, 1), (2, 1), (2, 1), (2, 1), (2, 1), (2, 1), (2, 1), (2, 1), (2, 1), (2, 1), (1, 1)]\n",
      "0.0989010989010989\n",
      "0.05747126436781613\n"
     ]
    }
   ],
   "source": [
    "#Support vector machine with a radial basis function kernel\n",
    "\n",
    "svc_rbf = SVC(kernel='rbf', probability=True, class_weight='balanced')\n",
    "svc_rbf.fit(X_train, y_train)\n",
    "y_pred = svc_rbf.predict(X_test)\n",
    "print(list(zip(y_pred, y_test)))\n",
    "print(accuracy_score(y_test, y_pred))\n",
    "print(balanced_accuracy_score(y_test, y_pred, adjusted=True))\n"
   ]
  },
  {
   "cell_type": "code",
   "execution_count": 104,
   "id": "153951e2",
   "metadata": {},
   "outputs": [
    {
     "name": "stdout",
     "output_type": "stream",
     "text": [
      "[(1, 1), (1, 1), (1, 1), (2, 1), (2, 1), (1, 2), (2, 1), (2, 1), (2, 1), (2, 1), (1, 1), (1, 1), (1, 1), (1, 1), (1, 1), (1, 1), (1, 1), (2, 1), (1, 1), (1, 1), (1, 1), (1, 1), (2, 1), (1, 1), (1, 1), (2, 1), (2, 1), (1, 1), (1, 1), (2, 1), (1, 2), (1, 1), (2, 1), (2, 1), (1, 1), (2, 1), (2, 1), (2, 1), (1, 1), (1, 1), (2, 1), (2, 1), (1, 1), (1, 1), (2, 1), (1, 1), (1, 1), (1, 1), (1, 1), (1, 1), (1, 1), (1, 1), (2, 1), (2, 1), (1, 1), (1, 1), (2, 1), (1, 1), (1, 1), (2, 1), (1, 1), (2, 1), (1, 1), (2, 1), (2, 1), (1, 1), (1, 1), (1, 1), (1, 1), (1, 1), (2, 1), (1, 1), (1, 1), (1, 2), (1, 1), (2, 1), (2, 1), (2, 1), (2, 2), (2, 1), (1, 1), (1, 1), (1, 1), (2, 1), (2, 1), (1, 1), (1, 1), (1, 1), (1, 1), (1, 1), (1, 1)]\n",
      "0.6043956043956044\n",
      "-0.1293103448275862\n"
     ]
    },
    {
     "name": "stderr",
     "output_type": "stream",
     "text": [
      "c:\\Users\\janja\\anaconda3\\envs\\bahn\\lib\\site-packages\\sklearn\\linear_model\\_logistic.py:814: ConvergenceWarning: lbfgs failed to converge (status=1):\n",
      "STOP: TOTAL NO. of ITERATIONS REACHED LIMIT.\n",
      "\n",
      "Increase the number of iterations (max_iter) or scale the data as shown in:\n",
      "    https://scikit-learn.org/stable/modules/preprocessing.html\n",
      "Please also refer to the documentation for alternative solver options:\n",
      "    https://scikit-learn.org/stable/modules/linear_model.html#logistic-regression\n",
      "  n_iter_i = _check_optimize_result(\n"
     ]
    }
   ],
   "source": [
    "#Logistic regression\n",
    "linear_lr = LogisticRegression(class_weight='balanced')\n",
    "linear_lr.fit(X_train, y_train)\n",
    "y_pred = linear_lr.predict(X_test)\n",
    "print(list(zip(y_pred, y_test)))\n",
    "print(accuracy_score(y_test, y_pred))\n",
    "print(balanced_accuracy_score(y_test, y_pred, adjusted=True))\n"
   ]
  },
  {
   "cell_type": "code",
   "execution_count": 105,
   "id": "f4ddab0b",
   "metadata": {},
   "outputs": [
    {
     "name": "stdout",
     "output_type": "stream",
     "text": [
      "[1 1 1 1 1 1 1 1 1 1 1 1 1 1 1 1 1 2 1 1 1 1 1 1 1 1 1 1 1 1 1 1 1 1 1 1 1\n",
      " 1 1 1 1 1 1 1 2 1 1 1 1 1 1 1 1 1 1 1 1 1 1 1 1 1 2 1 1 1 1 1 1 1 1 1 1 1\n",
      " 1 1 2 1 1 1 1 1 1 1 1 1 1 1 1 1 1]\n",
      "[[1. 0.]\n",
      " [1. 0.]\n",
      " [1. 0.]\n",
      " [1. 0.]\n",
      " [1. 0.]\n",
      " [1. 0.]\n",
      " [1. 0.]\n",
      " [1. 0.]\n",
      " [1. 0.]\n",
      " [1. 0.]\n",
      " [1. 0.]\n",
      " [1. 0.]\n",
      " [1. 0.]\n",
      " [1. 0.]\n",
      " [1. 0.]\n",
      " [1. 0.]\n",
      " [1. 0.]\n",
      " [0. 1.]\n",
      " [1. 0.]\n",
      " [1. 0.]\n",
      " [1. 0.]\n",
      " [1. 0.]\n",
      " [1. 0.]\n",
      " [1. 0.]\n",
      " [1. 0.]\n",
      " [1. 0.]\n",
      " [1. 0.]\n",
      " [1. 0.]\n",
      " [1. 0.]\n",
      " [1. 0.]\n",
      " [1. 0.]\n",
      " [1. 0.]\n",
      " [1. 0.]\n",
      " [1. 0.]\n",
      " [1. 0.]\n",
      " [1. 0.]\n",
      " [1. 0.]\n",
      " [1. 0.]\n",
      " [1. 0.]\n",
      " [1. 0.]\n",
      " [1. 0.]\n",
      " [1. 0.]\n",
      " [1. 0.]\n",
      " [1. 0.]\n",
      " [0. 1.]\n",
      " [1. 0.]\n",
      " [1. 0.]\n",
      " [1. 0.]\n",
      " [1. 0.]\n",
      " [1. 0.]\n",
      " [1. 0.]\n",
      " [1. 0.]\n",
      " [1. 0.]\n",
      " [1. 0.]\n",
      " [1. 0.]\n",
      " [1. 0.]\n",
      " [1. 0.]\n",
      " [1. 0.]\n",
      " [1. 0.]\n",
      " [1. 0.]\n",
      " [1. 0.]\n",
      " [1. 0.]\n",
      " [0. 1.]\n",
      " [1. 0.]\n",
      " [1. 0.]\n",
      " [1. 0.]\n",
      " [1. 0.]\n",
      " [1. 0.]\n",
      " [1. 0.]\n",
      " [1. 0.]\n",
      " [1. 0.]\n",
      " [1. 0.]\n",
      " [1. 0.]\n",
      " [1. 0.]\n",
      " [1. 0.]\n",
      " [1. 0.]\n",
      " [0. 1.]\n",
      " [1. 0.]\n",
      " [1. 0.]\n",
      " [1. 0.]\n",
      " [1. 0.]\n",
      " [1. 0.]\n",
      " [1. 0.]\n",
      " [1. 0.]\n",
      " [1. 0.]\n",
      " [1. 0.]\n",
      " [1. 0.]\n",
      " [1. 0.]\n",
      " [1. 0.]\n",
      " [1. 0.]\n",
      " [1. 0.]]\n",
      "0.9120879120879121\n",
      "-0.04597701149425293\n"
     ]
    },
    {
     "data": {
      "image/png": "[encoded data removed]",
      "text/plain": [
       "<Figure size 432x288 with 1 Axes>"
      ]
     },
     "metadata": {
      "needs_background": "light"
     },
     "output_type": "display_data"
    }
   ],
   "source": [
    "#decision tree 1:\n",
    "clf = tree.DecisionTreeClassifier(class_weight='balanced')\n",
    "clf = clf.fit(X_train, y_train)\n",
    "print(clf.predict(X_test))\n",
    "print(clf.predict_proba(X_test))\n",
    "print(clf.score(X_test, y_test))\n",
    "\n",
    "tree.plot_tree(clf)\n",
    "print(balanced_accuracy_score(y_test, clf.predict(X_test), adjusted=True))\n"
   ]
  },
  {
   "cell_type": "code",
   "execution_count": 107,
   "id": "275f178e",
   "metadata": {},
   "outputs": [
    {
     "name": "stdout",
     "output_type": "stream",
     "text": [
      "[1 1 1 1 1 1 2 2 1 1 1 1 1 1 1 1 1 2 1 1 1 1 1 1 1 1 1 1 1 1 1 1 2 1 1 1 1\n",
      " 1 1 1 1 1 1 1 2 1 1 1 1 1 1 1 1 1 1 1 1 1 1 2 1 1 2 1 1 1 1 1 2 1 1 1 1 1\n",
      " 1 1 2 1 2 1 1 1 1 1 1 1 1 1 1 1 1]\n",
      "[[1.         0.        ]\n",
      " [1.         0.        ]\n",
      " [1.         0.        ]\n",
      " [1.         0.        ]\n",
      " [1.         0.        ]\n",
      " [1.         0.        ]\n",
      " [0.08794788 0.91205212]\n",
      " [0.08794788 0.91205212]\n",
      " [1.         0.        ]\n",
      " [1.         0.        ]\n",
      " [1.         0.        ]\n",
      " [1.         0.        ]\n",
      " [1.         0.        ]\n",
      " [1.         0.        ]\n",
      " [1.         0.        ]\n",
      " [1.         0.        ]\n",
      " [1.         0.        ]\n",
      " [0.08794788 0.91205212]\n",
      " [1.         0.        ]\n",
      " [1.         0.        ]\n",
      " [1.         0.        ]\n",
      " [1.         0.        ]\n",
      " [1.         0.        ]\n",
      " [1.         0.        ]\n",
      " [1.         0.        ]\n",
      " [1.         0.        ]\n",
      " [1.         0.        ]\n",
      " [1.         0.        ]\n",
      " [1.         0.        ]\n",
      " [1.         0.        ]\n",
      " [1.         0.        ]\n",
      " [1.         0.        ]\n",
      " [0.08794788 0.91205212]\n",
      " [1.         0.        ]\n",
      " [1.         0.        ]\n",
      " [1.         0.        ]\n",
      " [1.         0.        ]\n",
      " [1.         0.        ]\n",
      " [1.         0.        ]\n",
      " [1.         0.        ]\n",
      " [1.         0.        ]\n",
      " [1.         0.        ]\n",
      " [1.         0.        ]\n",
      " [1.         0.        ]\n",
      " [0.08794788 0.91205212]\n",
      " [1.         0.        ]\n",
      " [1.         0.        ]\n",
      " [1.         0.        ]\n",
      " [1.         0.        ]\n",
      " [1.         0.        ]\n",
      " [1.         0.        ]\n",
      " [1.         0.        ]\n",
      " [1.         0.        ]\n",
      " [1.         0.        ]\n",
      " [1.         0.        ]\n",
      " [1.         0.        ]\n",
      " [1.         0.        ]\n",
      " [1.         0.        ]\n",
      " [1.         0.        ]\n",
      " [0.08794788 0.91205212]\n",
      " [1.         0.        ]\n",
      " [1.         0.        ]\n",
      " [0.         1.        ]\n",
      " [1.         0.        ]\n",
      " [1.         0.        ]\n",
      " [1.         0.        ]\n",
      " [1.         0.        ]\n",
      " [1.         0.        ]\n",
      " [0.08794788 0.91205212]\n",
      " [1.         0.        ]\n",
      " [1.         0.        ]\n",
      " [1.         0.        ]\n",
      " [1.         0.        ]\n",
      " [1.         0.        ]\n",
      " [1.         0.        ]\n",
      " [1.         0.        ]\n",
      " [0.08794788 0.91205212]\n",
      " [1.         0.        ]\n",
      " [0.08794788 0.91205212]\n",
      " [1.         0.        ]\n",
      " [1.         0.        ]\n",
      " [1.         0.        ]\n",
      " [1.         0.        ]\n",
      " [1.         0.        ]\n",
      " [1.         0.        ]\n",
      " [1.         0.        ]\n",
      " [1.         0.        ]\n",
      " [1.         0.        ]\n",
      " [1.         0.        ]\n",
      " [1.         0.        ]\n",
      " [1.         0.        ]]\n",
      "0.8681318681318682\n",
      "0.14655172413793105\n"
     ]
    },
    {
     "data": {
      "image/png": "[encoded data removed]",
      "text/plain": [
       "<Figure size 432x288 with 1 Axes>"
      ]
     },
     "metadata": {
      "needs_background": "light"
     },
     "output_type": "display_data"
    }
   ],
   "source": [
    "#decission tree 2:\n",
    "decision_tree = DecisionTreeClassifier(random_state=0, max_depth=5, class_weight='balanced')\n",
    "decision_tree = decision_tree.fit(X_train, y_train)\n",
    "print(decision_tree.predict(X_test))\n",
    "print(decision_tree.predict_proba(X_test))\n",
    "print(decision_tree.score(X_test, y_test))\n",
    "\n",
    "tree.plot_tree(decision_tree)\n",
    "print(balanced_accuracy_score(y_test, decision_tree.predict(X_test), adjusted=True))\n"
   ]
  },
  {
   "cell_type": "code",
   "execution_count": 108,
   "id": "39b9574d",
   "metadata": {},
   "outputs": [
    {
     "name": "stdout",
     "output_type": "stream",
     "text": [
      "0.9560439560439561\n",
      "0.0\n"
     ]
    }
   ],
   "source": [
    "#random forest:\n",
    "forest = RandomForestClassifier(n_estimators=100, class_weight='balanced')\n",
    "forest.fit(X_train,y_train)\n",
    "forest.predict(X_test)\n",
    "forest.predict_proba(X_test)\n",
    "print(forest.score(X_test, y_test))\n",
    "print(balanced_accuracy_score(y_test, forest.predict(X_test), adjusted=True))\n",
    "\n",
    "\n"
   ]
  },
  {
   "cell_type": "code",
   "execution_count": 110,
   "id": "6b088d79",
   "metadata": {},
   "outputs": [
    {
     "name": "stdout",
     "output_type": "stream",
     "text": [
      "0.9560439560439561\n",
      "0.0\n"
     ]
    }
   ],
   "source": [
    "#k-nearest neigbour\n",
    "knn = KNeighborsClassifier()\n",
    "knn.fit(X_train, y_train)\n",
    "\n",
    "print(knn.score(X_test, y_test))\n",
    "print(balanced_accuracy_score(y_test, knn.predict(X_test), adjusted=True))\n"
   ]
  }
 ],
 "metadata": {
  "kernelspec": {
   "display_name": "Python 3.9.12 ('bahn')",
   "language": "python",
   "name": "python3"
  },
  "language_info": {
   "codemirror_mode": {
    "name": "ipython",
    "version": 3
   },
   "file_extension": ".py",
   "mimetype": "text/x-python",
   "name": "python",
   "nbconvert_exporter": "python",
   "pygments_lexer": "ipython3",
   "version": "3.9.12"
  },
  "vscode": {
   "interpreter": {
    "hash": "76bf2483b678de59cbf0077370db76c835ab763105ad01236cd339f7f9e10161"
   }
  }
 },
 "nbformat": 4,
 "nbformat_minor": 5
}
